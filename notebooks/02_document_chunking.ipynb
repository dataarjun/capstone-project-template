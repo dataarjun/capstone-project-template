{
  "cells": [
    {
      "cell_type": "markdown",
      "metadata": {},
      "source": [
        "# Document Chunking and Vector Database Setup\n",
        "\n",
        "This notebook demonstrates how to process and chunk documents for the RAG pipeline in the Multi-Agent AML Investigation System.\n",
        "\n",
        "## What this notebook covers:\n",
        "- Document loading and preprocessing\n",
        "- Text chunking strategies\n",
        "- Embedding generation\n",
        "- ChromaDB vector database setup\n",
        "- Document similarity search\n"
      ]
    },
    {
      "cell_type": "code",
      "execution_count": 3,
      "metadata": {},
      "outputs": [
        {
          "name": "stdout",
          "output_type": "stream",
          "text": [
            "✅ Imports successful!\n"
          ]
        }
      ],
      "source": [
        "# Import necessary libraries\n",
        "import sys\n",
        "import os\n",
        "import json\n",
        "import pandas as pd\n",
        "from pathlib import Path\n",
        "from typing import List, Dict, Any\n",
        "import chromadb\n",
        "from chromadb.config import Settings as ChromaSettings\n",
        "\n",
        "# Add the app directory to the path\n",
        "sys.path.append('../')\n",
        "\n",
        "from app.core.config_simple import settings\n",
        "from app.core.logger import get_logger\n",
        "from app.agents.tools.vector_tools import VectorRetrievalTool\n",
        "\n",
        "logger = get_logger(__name__)\n",
        "print(\"✅ Imports successful!\")\n"
      ]
    },
    {
      "cell_type": "markdown",
      "metadata": {},
      "source": [
        "## 1. Sample KYC Documents Creation\n"
      ]
    },
    {
      "cell_type": "code",
      "execution_count": 4,
      "metadata": {},
      "outputs": [
        {
          "name": "stdout",
          "output_type": "stream",
          "text": [
            "✅ Created 4 sample KYC documents\n",
            "- C001: passport (DOC001)\n",
            "- C001: address_proof (DOC002)\n",
            "- C002: source_of_wealth (DOC003)\n",
            "- C003: business_license (DOC004)\n"
          ]
        }
      ],
      "source": [
        "# Create sample KYC documents\n",
        "sample_kyc_documents = [\n",
        "    {\n",
        "        \"customer_id\": \"C001\",\n",
        "        \"document_type\": \"passport\",\n",
        "        \"content\": \"\"\"\n",
        "        PASSPORT INFORMATION\n",
        "        Name: John Doe\n",
        "        Passport Number: P123456789\n",
        "        Date of Birth: March 15, 1985\n",
        "        Place of Birth: New York, USA\n",
        "        Nationality: American\n",
        "        Issue Date: January 15, 2020\n",
        "        Expiry Date: January 15, 2030\n",
        "        Issuing Authority: US Department of State\n",
        "        \n",
        "        This passport is valid for international travel and contains biometric data.\n",
        "        The holder has been verified through standard security procedures.\n",
        "        \"\"\",\n",
        "        \"metadata\": {\n",
        "            \"document_id\": \"DOC001\",\n",
        "            \"upload_date\": \"2024-01-15\",\n",
        "            \"verification_status\": \"verified\",\n",
        "            \"source\": \"government_database\"\n",
        "        }\n",
        "    },\n",
        "    {\n",
        "        \"customer_id\": \"C001\",\n",
        "        \"document_type\": \"address_proof\",\n",
        "        \"content\": \"\"\"\n",
        "        ADDRESS VERIFICATION DOCUMENT\n",
        "        Customer: John Doe\n",
        "        Address: 123 Main Street, Apt 4B, New York, NY 10001\n",
        "        Document Type: Utility Bill\n",
        "        Service Provider: ConEdison\n",
        "        Account Number: 1234567890\n",
        "        Billing Period: December 2023\n",
        "        Amount Due: $156.78\n",
        "        \n",
        "        This document serves as proof of residence for the above customer.\n",
        "        The address has been verified through utility company records.\n",
        "        \"\"\",\n",
        "        \"metadata\": {\n",
        "            \"document_id\": \"DOC002\",\n",
        "            \"upload_date\": \"2024-01-10\",\n",
        "            \"verification_status\": \"verified\",\n",
        "            \"source\": \"utility_company\"\n",
        "        }\n",
        "    },\n",
        "    {\n",
        "        \"customer_id\": \"C002\",\n",
        "        \"document_type\": \"source_of_wealth\",\n",
        "        \"content\": \"\"\"\n",
        "        SOURCE OF WEALTH DECLARATION\n",
        "        Customer: Jane Smith\n",
        "        Declaration Date: January 20, 2024\n",
        "        \n",
        "        I, Jane Smith, declare that my primary sources of wealth are:\n",
        "        1. Employment Income: Senior Software Engineer at TechCorp Inc.\n",
        "           - Annual Salary: $180,000\n",
        "           - Employment Duration: 5 years\n",
        "           - Position: Senior Software Engineer\n",
        "        \n",
        "        2. Investment Income: \n",
        "           - Stock Portfolio: $250,000\n",
        "           - Mutual Funds: $75,000\n",
        "           - Real Estate Investment: $300,000\n",
        "        \n",
        "        3. Inheritance:\n",
        "           - Received from family trust: $100,000 (2022)\n",
        "           - Property inheritance: $200,000 (2023)\n",
        "        \n",
        "        All sources of wealth are legitimate and properly documented.\n",
        "        I understand that any false declarations may result in account closure.\n",
        "        \"\"\",\n",
        "        \"metadata\": {\n",
        "            \"document_id\": \"DOC003\",\n",
        "            \"upload_date\": \"2024-01-20\",\n",
        "            \"verification_status\": \"pending\",\n",
        "            \"source\": \"customer_declaration\"\n",
        "        }\n",
        "    },\n",
        "    {\n",
        "        \"customer_id\": \"C003\",\n",
        "        \"document_type\": \"business_license\",\n",
        "        \"content\": \"\"\"\n",
        "        BUSINESS LICENSE INFORMATION\n",
        "        Business Name: Johnson Consulting LLC\n",
        "        License Number: BL-2023-789456\n",
        "        Business Type: Professional Services\n",
        "        Owner: Robert Johnson\n",
        "        Address: 789 Pine Street, Miami, FL 33101\n",
        "        Issue Date: March 1, 2023\n",
        "        Expiry Date: March 1, 2025\n",
        "        License Status: Active\n",
        "        \n",
        "        This business is licensed to provide consulting services in the state of Florida.\n",
        "        The business has been operating for 2 years and maintains good standing.\n",
        "        \"\"\",\n",
        "        \"metadata\": {\n",
        "            \"document_id\": \"DOC004\",\n",
        "            \"upload_date\": \"2024-01-25\",\n",
        "            \"verification_status\": \"verified\",\n",
        "            \"source\": \"state_business_registry\"\n",
        "        }\n",
        "    }\n",
        "]\n",
        "\n",
        "print(f\"✅ Created {len(sample_kyc_documents)} sample KYC documents\")\n",
        "for doc in sample_kyc_documents:\n",
        "    print(f\"- {doc['customer_id']}: {doc['document_type']} ({doc['metadata']['document_id']})\")\n"
      ]
    },
    {
      "cell_type": "code",
      "execution_count": null,
      "metadata": {},
      "outputs": [],
      "source": []
    },
    {
      "cell_type": "code",
      "execution_count": null,
      "metadata": {},
      "outputs": [],
      "source": []
    }
  ],
  "metadata": {
    "kernelspec": {
      "display_name": "AgenticApplications-Cohort-1",
      "language": "python",
      "name": "python3"
    },
    "language_info": {
      "codemirror_mode": {
        "name": "ipython",
        "version": 3
      },
      "file_extension": ".py",
      "mimetype": "text/x-python",
      "name": "python",
      "nbconvert_exporter": "python",
      "pygments_lexer": "ipython3",
      "version": "3.13.5"
    }
  },
  "nbformat": 4,
  "nbformat_minor": 2
}
